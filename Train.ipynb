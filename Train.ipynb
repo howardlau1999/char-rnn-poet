{
 "cells": [
  {
   "cell_type": "code",
   "execution_count": 8,
   "metadata": {},
   "outputs": [],
   "source": [
    "import torchtext\r\n",
    "import pandas as pd\r\n",
    "import sklearn.model_selection\r\n",
    "import torch\r\n",
    "import torch.nn as nn\r\n",
    "import torch.cuda\r\n",
    "from torch import optim\r\n",
    "import torch.nn.functional as F\r\n",
    "import numpy as np\r\n",
    "from tqdm import tqdm\r\n",
    "device = torch.device(\"cuda\" if torch.cuda.is_available() else \"cpu\")"
   ]
  },
  {
   "cell_type": "code",
   "execution_count": 3,
   "metadata": {},
   "outputs": [],
   "source": [
    "TEXT = torchtext.legacy.data.Field(init_token=\"<SOP>\", eos_token=\"<EOP>\")\r\n",
    "train_dataset = torchtext.legacy.datasets.LanguageModelingDataset(\"tang.txt\", TEXT, newline_eos=False)\r\n",
    "TEXT.build_vocab(train_dataset)"
   ]
  },
  {
   "cell_type": "code",
   "execution_count": 4,
   "metadata": {},
   "outputs": [],
   "source": [
    "class BasicRNN(nn.Module):\n",
    "    def __init__(self, vocab_size, embedding_dim, hidden_dim, num_layers, dropout=0.5):\n",
    "        super(BasicRNN, self).__init__()\n",
    "        self.vocab_size = vocab_size\n",
    "        self.embedding_dim = embedding_dim\n",
    "        self.embed = nn.Embedding(vocab_size, embedding_dim)\n",
    "        self.lstm = nn.LSTM(embedding_dim, hidden_dim, num_layers, dropout=dropout)\n",
    "        self.decode = nn.Linear(hidden_dim, vocab_size)\n",
    "        self.dropout = nn.Dropout(dropout)\n",
    "        self.num_layers = num_layers\n",
    "        self.hidden_dim = hidden_dim\n",
    "        self.init_weights()\n",
    "        \n",
    "    def forward(self, x, hidden_states):\n",
    "        embedding = self.dropout(self.embed(x))\n",
    "        output, (h_n, c_n) = self.lstm(embedding, hidden_states)\n",
    "        output = self.dropout(output)\n",
    "        bsz = output.size(1)\n",
    "        decoded = self.decode(output.view(-1, output.size(2)))\n",
    "        decoded = decoded.view(-1, bsz, self.vocab_size)\n",
    "        return decoded, (h_n, c_n)\n",
    "    \n",
    "    def init_weights(self):\n",
    "        initrange = 0.1\n",
    "        self.embed.weight.data.uniform_(-initrange, initrange)\n",
    "        self.decode.bias.data.zero_()\n",
    "        self.decode.weight.data.uniform_(-initrange, initrange)\n",
    "    \n",
    "    def init_hidden(self, bsz):\n",
    "        weight = next(self.parameters())\n",
    "        return (weight.new_zeros(self.num_layers, bsz, self.hidden_dim),\n",
    "                weight.new_zeros(self.num_layers, bsz, self.hidden_dim))"
   ]
  },
  {
   "cell_type": "code",
   "execution_count": 5,
   "metadata": {},
   "outputs": [],
   "source": [
    "def generate_poem(model, sample=False):\n",
    "    model.eval()\n",
    "    idx = TEXT.vocab.stoi[\"<SOP>\"]\n",
    "    x = torch.Tensor([idx]).view(1, 1).long().to(device)\n",
    "    poem = []\n",
    "    hidden = model.init_hidden(1)\n",
    "    with torch.no_grad():\n",
    "        for _ in range(128):\n",
    "            output, hidden = model(x, hidden)\n",
    "            output = output.view(model.vocab_size)\n",
    "            if sample:\n",
    "                probs = F.softmax(output, dim=0).cpu().numpy()\n",
    "                probs /= probs.sum()\n",
    "                idx = np.random.choice(range(model.vocab_size), p=probs)\n",
    "            else:\n",
    "                idx = torch.argmax(output)\n",
    "            if idx == TEXT.vocab.stoi[\"<EOP>\"]: break\n",
    "            poem.append(TEXT.vocab.itos[idx])\n",
    "            x = torch.Tensor([idx]).view(1, 1).long().to(device)\n",
    "    return poem\n",
    "\n",
    "def generate_poem_with_first_sent(model, first_sentence, sample=False):\n",
    "    model.eval()\n",
    "    idx = TEXT.vocab.stoi[\"<SOP>\"]\n",
    "    x = torch.Tensor([idx]).view(1, 1).long().to(device)\n",
    "    poem = list(first_sentence) + [\"，\"]\n",
    "    hidden = model.init_hidden(1)\n",
    "    with torch.no_grad():\n",
    "        for word in poem:\n",
    "            output, hidden = model(x, hidden)\n",
    "            idx = TEXT.vocab.stoi[word]\n",
    "            x = torch.Tensor([idx]).view(1, 1).long().to(device)\n",
    "        for _ in range(128):\n",
    "            output, hidden = model(x, hidden)\n",
    "            output = output.view(model.vocab_size)\n",
    "            if sample:\n",
    "                probs = F.softmax(output, dim=0).cpu().numpy()\n",
    "                probs /= probs.sum()\n",
    "                idx = np.random.choice(range(model.vocab_size), p=probs)\n",
    "            else:\n",
    "                idx = torch.argmax(output)\n",
    "            if idx == TEXT.vocab.stoi[\"<EOP>\"]: break\n",
    "            poem.append(TEXT.vocab.itos[idx])\n",
    "            x = torch.Tensor([idx]).view(1, 1).long().to(device)\n",
    "    return poem"
   ]
  },
  {
   "cell_type": "code",
   "execution_count": 20,
   "metadata": {},
   "outputs": [],
   "source": [
    "def detach_hidden(h):\r\n",
    "    if isinstance(h, torch.Tensor):\r\n",
    "        return h.detach()\r\n",
    "    else:\r\n",
    "        return tuple(detach_hidden(v) for v in h)\r\n",
    "    \r\n",
    "def train(model, dataset, lr=1e-3, epochs=10, start=0, save_per=1000, debug=False):\r\n",
    "    train_iter = torchtext.legacy.data.BPTTIterator(\r\n",
    "            dataset,\r\n",
    "            batch_size=1024,\r\n",
    "            bptt_len=33,\r\n",
    "            device=device,\r\n",
    "            repeat=False\r\n",
    "        )\r\n",
    "    vocab_size = len(dataset.fields['text'].vocab)\r\n",
    "    criterion = nn.CrossEntropyLoss()\r\n",
    "    optimizer = optim.Adam(model.parameters(), lr=lr)\r\n",
    "    hidden = None\r\n",
    "    total_loss = []\r\n",
    "    for epoch in range(epochs):\r\n",
    "        epoch = epoch + start\r\n",
    "        try:\r\n",
    "            model.train()\r\n",
    "            epoch_loss = []\r\n",
    "            train_iter.init_epoch()\r\n",
    "            for i, batch in enumerate(tqdm(train_iter)):\r\n",
    "                if hidden is None:\r\n",
    "                    hidden = model.init_hidden(batch.batch_size)\r\n",
    "                else:\r\n",
    "                    hidden = detach_hidden(hidden)\r\n",
    "\r\n",
    "                text, target = batch.text, batch.target\r\n",
    "                output, hidden = model(text, hidden)\r\n",
    "                optimizer.zero_grad()\r\n",
    "                loss = criterion(output.view(-1, vocab_size), target.view(-1))\r\n",
    "                loss.backward()\r\n",
    "                optimizer.step()\r\n",
    "                epoch_loss.append(loss.item())\r\n",
    "\r\n",
    "            epoch_loss = np.mean(epoch_loss)\r\n",
    "            total_loss.append(epoch_loss)\r\n",
    "            if debug:\r\n",
    "                print(\"Epoch %d Loss: %f\" % (epoch, epoch_loss))\r\n",
    "                print(''.join(generate_poem(model)))\r\n",
    "            elif (epoch + 1) % 10 == 0: \r\n",
    "                print(\"Epoch %d Loss: %f\" % (epoch, epoch_loss))\r\n",
    "                print(''.join(generate_poem(model)))\r\n",
    "                print(''.join(generate_poem(model, True)))\r\n",
    "                with open(\"loss.log\", \"a\") as f:\r\n",
    "                    f.write(\"Epoch %d Loss: %f\\n\" % (epoch, epoch_loss))\r\n",
    "                    f.write(''.join(generate_poem(model)) + '\\n')\r\n",
    "                    f.write(''.join(generate_poem(model, True)) + '\\n')\r\n",
    "            if (epoch + 1) % save_per == 0 or epoch == 0 and not debug:\r\n",
    "                torch.save(model.state_dict(), \"model_{0:d}.pth\".format(epoch))\r\n",
    "        except KeyboardInterrupt:\r\n",
    "            torch.save(model.state_dict(), \"model_{0:d}.pth\".format(epoch))\r\n",
    "            return total_loss\r\n",
    "    return total_loss"
   ]
  },
  {
   "cell_type": "code",
   "execution_count": 15,
   "metadata": {},
   "outputs": [],
   "source": [
    "model = BasicRNN(len(train_dataset.fields['text'].vocab), 300, 512, 2, 0.5).to(device)\r\n",
    "# model.load_state_dict(torch.load(\"model_5999.pth\"))"
   ]
  },
  {
   "cell_type": "code",
   "execution_count": null,
   "metadata": {
    "scrolled": true
   },
   "outputs": [],
   "source": [
    "train(model, train_dataset, lr=1e-3, epochs=20000, start=0, debug=False)"
   ]
  },
  {
   "cell_type": "code",
   "execution_count": null,
   "metadata": {},
   "outputs": [],
   "source": [
    "generate_poem(model, False)"
   ]
  },
  {
   "cell_type": "code",
   "execution_count": null,
   "metadata": {},
   "outputs": [],
   "source": []
  }
 ],
 "metadata": {
  "kernelspec": {
   "display_name": "Python 3.8.10 64-bit ('ray': conda)",
   "name": "python3810jvsc74a57bd0953460e12db3464abf97a2766dfe3346feda4e6b9eaf42fa09b49b51a2a2f3a5"
  },
  "language_info": {
   "codemirror_mode": {
    "name": "ipython",
    "version": 3
   },
   "file_extension": ".py",
   "mimetype": "text/x-python",
   "name": "python",
   "nbconvert_exporter": "python",
   "pygments_lexer": "ipython3",
   "version": "3.8.10"
  },
  "metadata": {
   "interpreter": {
    "hash": "953460e12db3464abf97a2766dfe3346feda4e6b9eaf42fa09b49b51a2a2f3a5"
   }
  },
  "orig_nbformat": 3
 },
 "nbformat": 4,
 "nbformat_minor": 2
}