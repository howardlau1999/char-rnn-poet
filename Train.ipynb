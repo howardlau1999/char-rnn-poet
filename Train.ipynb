{
 "cells": [
  {
   "cell_type": "code",
   "execution_count": 1,
   "metadata": {},
   "outputs": [],
   "source": [
    "import torchtext\n",
    "import pandas as pd\n",
    "import sklearn.model_selection\n",
    "import torch\n",
    "import torch.nn as nn\n",
    "import torch.cuda\n",
    "from torch import optim\n",
    "import torch.nn.functional as F\n",
    "import numpy as np\n",
    "from tqdm import tqdm\n",
    "device = torch.device(\"cuda:1\" if torch.cuda.is_available() else \"cpu\")"
   ]
  },
  {
   "cell_type": "code",
   "execution_count": 2,
   "metadata": {},
   "outputs": [],
   "source": [
    "TEXT = torchtext.data.Field(init_token=\"<SOP>\", eos_token=\"<EOP>\")\n",
    "train_dataset = torchtext.datasets.LanguageModelingDataset(\"tang.txt\", TEXT, newline_eos=False)\n",
    "TEXT.build_vocab(train_dataset)"
   ]
  },
  {
   "cell_type": "code",
   "execution_count": 3,
   "metadata": {},
   "outputs": [],
   "source": [
    "class BasicRNN(nn.Module):\n",
    "    def __init__(self, vocab_size, embedding_dim, hidden_dim, num_layers, dropout=0.5):\n",
    "        super(BasicRNN, self).__init__()\n",
    "        self.vocab_size = vocab_size\n",
    "        self.embedding_dim = embedding_dim\n",
    "        self.embed = nn.Embedding(vocab_size, embedding_dim)\n",
    "        self.lstm = nn.LSTM(embedding_dim, hidden_dim, num_layers, dropout=dropout)\n",
    "        self.decode = nn.Linear(hidden_dim, vocab_size)\n",
    "        self.dropout = nn.Dropout(dropout)\n",
    "        self.num_layers = num_layers\n",
    "        self.hidden_dim = hidden_dim\n",
    "        self.init_weights()\n",
    "        \n",
    "    def forward(self, x, hidden_states):\n",
    "        embedding = self.dropout(self.embed(x))\n",
    "        output, (h_n, c_n) = self.lstm(embedding, hidden_states)\n",
    "        output = self.dropout(output)\n",
    "        bsz = output.size(1)\n",
    "        decoded = self.decode(output.view(-1, output.size(2)))\n",
    "        decoded = decoded.view(-1, bsz, self.vocab_size)\n",
    "        return decoded, (h_n, c_n)\n",
    "    \n",
    "    def init_weights(self):\n",
    "        initrange = 0.1\n",
    "        self.embed.weight.data.uniform_(-initrange, initrange)\n",
    "        self.decode.bias.data.zero_()\n",
    "        self.decode.weight.data.uniform_(-initrange, initrange)\n",
    "    \n",
    "    def init_hidden(self, bsz):\n",
    "        weight = next(self.parameters())\n",
    "        return (weight.new_zeros(self.num_layers, bsz, self.hidden_dim),\n",
    "                weight.new_zeros(self.num_layers, bsz, self.hidden_dim))"
   ]
  },
  {
   "cell_type": "code",
   "execution_count": 4,
   "metadata": {},
   "outputs": [],
   "source": [
    "def generate_poem(model, sample=False):\n",
    "    model.eval()\n",
    "    idx = TEXT.vocab.stoi[\"<SOP>\"]\n",
    "    x = torch.Tensor([idx]).view(1, 1).long().to(device)\n",
    "    poem = []\n",
    "    hidden = model.init_hidden(1)\n",
    "    with torch.no_grad():\n",
    "        for _ in range(128):\n",
    "            output, hidden = model(x, hidden)\n",
    "            output = output.view(model.vocab_size)\n",
    "            if sample:\n",
    "                probs = F.softmax(output, dim=0).cpu().numpy()\n",
    "                probs /= probs.sum()\n",
    "                idx = np.random.choice(range(model.vocab_size), p=probs)\n",
    "            else:\n",
    "                idx = torch.argmax(output)\n",
    "            if idx == TEXT.vocab.stoi[\"<EOP>\"]: break\n",
    "            poem.append(TEXT.vocab.itos[idx])\n",
    "            x = torch.Tensor([idx]).view(1, 1).long().to(device)\n",
    "    return poem\n",
    "\n",
    "def generate_poem_with_first_sent(model, first_sentence, sample=False):\n",
    "    model.eval()\n",
    "    idx = TEXT.vocab.stoi[\"<SOP>\"]\n",
    "    x = torch.Tensor([idx]).view(1, 1).long().to(device)\n",
    "    poem = list(first_sentence) + [\"，\"]\n",
    "    hidden = model.init_hidden(1)\n",
    "    with torch.no_grad():\n",
    "        for word in poem:\n",
    "            output, hidden = model(x, hidden)\n",
    "            idx = TEXT.vocab.stoi[word]\n",
    "            x = torch.Tensor([idx]).view(1, 1).long().to(device)\n",
    "        for _ in range(128):\n",
    "            output, hidden = model(x, hidden)\n",
    "            output = output.view(model.vocab_size)\n",
    "            if sample:\n",
    "                probs = F.softmax(output, dim=0).cpu().numpy()\n",
    "                probs /= probs.sum()\n",
    "                idx = np.random.choice(range(model.vocab_size), p=probs)\n",
    "            else:\n",
    "                idx = torch.argmax(output)\n",
    "            if idx == TEXT.vocab.stoi[\"<EOP>\"]: break\n",
    "            poem.append(TEXT.vocab.itos[idx])\n",
    "            x = torch.Tensor([idx]).view(1, 1).long().to(device)\n",
    "    return poem"
   ]
  },
  {
   "cell_type": "code",
   "execution_count": 5,
   "metadata": {},
   "outputs": [],
   "source": [
    "def detach_hidden(h):\n",
    "    if isinstance(h, torch.Tensor):\n",
    "        return h.detach()\n",
    "    else:\n",
    "        return tuple(detach_hidden(v) for v in h)\n",
    "    \n",
    "def train(model, dataset, lr=1e-3, epochs=10, start=0, save_per=1000, debug=False):\n",
    "    train_iter = torchtext.data.BPTTIterator(\n",
    "            dataset,\n",
    "            batch_size=2048,\n",
    "            bptt_len=33,\n",
    "            device=device,\n",
    "            repeat=False\n",
    "        )\n",
    "    vocab_size = len(dataset.fields['text'].vocab)\n",
    "    criterion = nn.CrossEntropyLoss()\n",
    "    optimizer = optim.Adam(model.parameters(), lr=lr)\n",
    "    hidden = None\n",
    "    total_loss = []\n",
    "    for epoch in range(epochs):\n",
    "        epoch = epoch + start\n",
    "        try:\n",
    "            model.train()\n",
    "            epoch_loss = []\n",
    "            train_iter.init_epoch()\n",
    "            for i, batch in enumerate(tqdm(train_iter)):\n",
    "                if hidden is None:\n",
    "                    hidden = model.init_hidden(batch.batch_size)\n",
    "                else:\n",
    "                    hidden = detach_hidden(hidden)\n",
    "\n",
    "                text, target = batch.text, batch.target\n",
    "                output, hidden = model(text, hidden)\n",
    "                optimizer.zero_grad()\n",
    "                loss = criterion(output.view(-1, vocab_size), target.view(-1))\n",
    "                loss.backward()\n",
    "                optimizer.step()\n",
    "                epoch_loss.append(loss.item())\n",
    "\n",
    "            epoch_loss = np.mean(epoch_loss)\n",
    "            total_loss.append(epoch_loss)\n",
    "            if debug:\n",
    "                print(\"Epoch %d Loss: %f\" % (epoch, epoch_loss))\n",
    "                print(''.join(generate_poem(model)))\n",
    "            elif (epoch + 1) % 10 == 0: \n",
    "                print(\"Epoch %d Loss: %f\" % (epoch, epoch_loss))\n",
    "                print(''.join(generate_poem(model)))\n",
    "                print(''.join(generate_poem(model, True)))\n",
    "                with open(\"loss.log\", \"a\") as f:\n",
    "                    f.write(\"Epoch %d Loss: %f\\n\" % (epoch, epoch_loss))\n",
    "                    f.write(''.join(generate_poem(model)) + '\\n')\n",
    "                    f.write(''.join(generate_poem(model, True)) + '\\n')\n",
    "            if (epoch + 1) % save_per == 0 or epoch == 0 and not debug:\n",
    "                torch.save(model.state_dict(), \"model_{0:d}.pth\".format(epoch))\n",
    "        except KeyboardInterrupt:\n",
    "            torch.save(model.state_dict(), \"model_{0:d}.pth\".format(epoch))\n",
    "            return total_loss\n",
    "    return total_loss"
   ]
  },
  {
   "cell_type": "code",
   "execution_count": 6,
   "metadata": {},
   "outputs": [],
   "source": [
    "model = BasicRNN(len(train_dataset.fields['text'].vocab), 300, 1024, 2, 0.5).to(device)\n",
    "model.load_state_dict(torch.load(\"model_5999.pth\"))"
   ]
  },
  {
   "cell_type": "code",
   "execution_count": null,
   "metadata": {
    "scrolled": true
   },
   "outputs": [
    {
     "name": "stderr",
     "output_type": "stream",
     "text": [
      "100%|██████████| 6/6 [00:09<00:00,  1.55s/it]\n",
      "100%|██████████| 6/6 [00:09<00:00,  1.55s/it]\n",
      "100%|██████████| 6/6 [00:09<00:00,  1.55s/it]\n",
      "100%|██████████| 6/6 [00:09<00:00,  1.55s/it]\n",
      "100%|██████████| 6/6 [00:09<00:00,  1.55s/it]\n",
      "100%|██████████| 6/6 [00:09<00:00,  1.55s/it]\n",
      "100%|██████████| 6/6 [00:09<00:00,  1.55s/it]\n",
      "100%|██████████| 6/6 [00:09<00:00,  1.55s/it]\n",
      "100%|██████████| 6/6 [00:09<00:00,  1.55s/it]\n",
      "100%|██████████| 6/6 [00:09<00:00,  1.55s/it]\n",
      "  0%|          | 0/6 [00:00<?, ?it/s]"
     ]
    },
    {
     "name": "stdout",
     "output_type": "stream",
     "text": [
      "Epoch 6009 Loss: 2.412433\n",
      "君王不信久何如，一曲如今一半無。今日相逢頭似雪，一時吹向月中看。\n",
      "學老詩人微月月，眼新一路不爲行。山僧獨向東西去，爲憶風光滿水風。\n"
     ]
    },
    {
     "name": "stderr",
     "output_type": "stream",
     "text": [
      "100%|██████████| 6/6 [00:09<00:00,  1.55s/it]\n",
      "100%|██████████| 6/6 [00:09<00:00,  1.55s/it]\n",
      "100%|██████████| 6/6 [00:09<00:00,  1.55s/it]\n",
      " 67%|██████▋   | 4/6 [00:06<00:03,  1.69s/it]"
     ]
    }
   ],
   "source": [
    "train(model, train_dataset, lr=1e-3, epochs=20000, start=6000, debug=False)"
   ]
  },
  {
   "cell_type": "code",
   "execution_count": null,
   "metadata": {},
   "outputs": [],
   "source": [
    "generate_poem(model, False)"
   ]
  },
  {
   "cell_type": "code",
   "execution_count": null,
   "metadata": {},
   "outputs": [],
   "source": []
  }
 ],
 "metadata": {
  "kernelspec": {
   "display_name": "Python 3",
   "language": "python",
   "name": "python3"
  },
  "language_info": {
   "codemirror_mode": {
    "name": "ipython",
    "version": 3
   },
   "file_extension": ".py",
   "mimetype": "text/x-python",
   "name": "python",
   "nbconvert_exporter": "python",
   "pygments_lexer": "ipython3",
   "version": "3.6.4"
  }
 },
 "nbformat": 4,
 "nbformat_minor": 2
}
