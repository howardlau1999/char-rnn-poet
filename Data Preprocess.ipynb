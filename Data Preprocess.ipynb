{
 "cells": [
  {
   "cell_type": "code",
   "execution_count": null,
   "metadata": {},
   "outputs": [],
   "source": [
    "from path import Path\n",
    "import json, os\n",
    "import collections\n",
    "import re\n",
    "import torchtext\n",
    "import pandas as pd\n",
    "import sklearn.model_selection\n",
    "import torch\n",
    "import torch.nn as nn\n",
    "import torch.cuda\n",
    "from torch import optim\n",
    "import torch.nn.functional as F\n",
    "\n",
    "device = torch.device(\"cuda\" if torch.cuda.is_available() else \"cpu\")\n",
    "BASE_DIR = Path(\"./chinese-poetry\")\n",
    "POETS_PER_JSON = 1000\n",
    "POET_DIR = BASE_DIR / \"json\""
   ]
  },
  {
   "cell_type": "code",
   "execution_count": null,
   "metadata": {},
   "outputs": [],
   "source": [
    "def read_jsons(dynasty=[\"tang\"], max_count=None):\n",
    "    poets = []\n",
    "    for dyna in dynasty:\n",
    "        json_count = 0\n",
    "        while True:\n",
    "            json_path = POET_DIR / \"poet.{dyna:s}.{count:d}.json\".format(dyna=dyna, count=json_count)\n",
    "            if not os.path.exists(json_path): break\n",
    "            with open(json_path, \"r\", encoding=\"utf8\") as f:\n",
    "                _poets = json.loads(f.read())\n",
    "            poets.extend(_poets)\n",
    "            if max_count is not None and len(poets) >= max_count: return poets[:max_count+1]\n",
    "            json_count += POETS_PER_JSON\n",
    "    return poets"
   ]
  },
  {
   "cell_type": "code",
   "execution_count": null,
   "metadata": {},
   "outputs": [],
   "source": [
    "tang_poets = read_jsons()"
   ]
  },
  {
   "cell_type": "code",
   "execution_count": null,
   "metadata": {},
   "outputs": [],
   "source": [
    "def text_preprocess(poets):\n",
    "    pattern = re.compile(r\"（.*）|\\[|\\]\") # Remove annotations\n",
    "    joined = [' '.join(re.sub(pattern, \"\", ''.join(poet[\"paragraphs\"])).replace(\"。。\", \"。\")) for poet in poets]\n",
    "    qijue = re.compile(r\"^\\w{7}，\\w{7}。\\w{7}，\\w{7}。$\")\n",
    "    return ['<SOP> ' + s  + ' <EOP>' for s in joined if re.match(qijue, s.replace(\" \", \"\")) and s.find(\"{\") < 0]"
   ]
  },
  {
   "cell_type": "code",
   "execution_count": null,
   "metadata": {},
   "outputs": [],
   "source": [
    "preprocessed = text_preprocess(tang_poets)"
   ]
  },
  {
   "cell_type": "code",
   "execution_count": null,
   "metadata": {},
   "outputs": [],
   "source": [
    "train, test = sklearn.model_selection.train_test_split(preprocessed)"
   ]
  },
  {
   "cell_type": "code",
   "execution_count": null,
   "metadata": {},
   "outputs": [],
   "source": [
    "with open(\"tang_train.txt\", \"w\") as f:\n",
    "    f.write('\\n'.join(train))\n",
    "with open(\"tang_test.txt\", \"w\") as f:\n",
    "    f.write('\\n'.join(test))\n",
    "with open(\"tang.txt\", \"w\") as f:\n",
    "    f.write('\\n'.join(preprocessed))"
   ]
  },
  {
   "cell_type": "code",
   "execution_count": null,
   "metadata": {},
   "outputs": [],
   "source": []
  },
  {
   "cell_type": "code",
   "execution_count": null,
   "metadata": {},
   "outputs": [],
   "source": []
  },
  {
   "cell_type": "code",
   "execution_count": null,
   "metadata": {},
   "outputs": [],
   "source": []
  },
  {
   "cell_type": "code",
   "execution_count": null,
   "metadata": {},
   "outputs": [],
   "source": []
  },
  {
   "cell_type": "code",
   "execution_count": null,
   "metadata": {},
   "outputs": [],
   "source": []
  },
  {
   "cell_type": "code",
   "execution_count": null,
   "metadata": {},
   "outputs": [],
   "source": []
  }
 ],
 "metadata": {
  "kernelspec": {
   "display_name": "Python 3",
   "language": "python",
   "name": "python3"
  },
  "language_info": {
   "codemirror_mode": {
    "name": "ipython",
    "version": 3
   },
   "file_extension": ".py",
   "mimetype": "text/x-python",
   "name": "python",
   "nbconvert_exporter": "python",
   "pygments_lexer": "ipython3",
   "version": "3.6.4"
  }
 },
 "nbformat": 4,
 "nbformat_minor": 2
}
